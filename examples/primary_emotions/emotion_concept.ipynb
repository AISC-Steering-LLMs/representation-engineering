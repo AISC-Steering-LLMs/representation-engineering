{
 "cells": [
  {
   "cell_type": "code",
   "execution_count": 1,
   "id": "efefc8b0-7725-4878-9727-d0cf9bd4fcf4",
   "metadata": {},
   "outputs": [],
   "source": [
    "%load_ext autoreload\n",
    "%autoreload 2"
   ]
  },
  {
   "cell_type": "code",
   "execution_count": 2,
   "id": "7dc1ec48-ec7c-426b-904c-dfc33f9a04e4",
   "metadata": {
    "scrolled": true
   },
   "outputs": [
    {
     "name": "stderr",
     "output_type": "stream",
     "text": [
      "/home/tjennerjahn/miniconda3/lib/python3.11/site-packages/tqdm/auto.py:21: TqdmWarning: IProgress not found. Please update jupyter and ipywidgets. See https://ipywidgets.readthedocs.io/en/stable/user_install.html\n",
      "  from .autonotebook import tqdm as notebook_tqdm\n"
     ]
    }
   ],
   "source": [
    "from transformers import AutoTokenizer, pipeline, AutoModelForCausalLM\n",
    "import matplotlib.pyplot as plt\n",
    "import torch\n",
    "from tqdm import tqdm\n",
    "import numpy as np\n",
    "\n",
    "from repe import repe_pipeline_registry\n",
    "repe_pipeline_registry()\n",
    "\n",
    "from utils import primary_emotions_concept_dataset"
   ]
  },
  {
   "cell_type": "code",
   "execution_count": 3,
   "id": "79df086a",
   "metadata": {},
   "outputs": [
    {
     "name": "stdout",
     "output_type": "stream",
     "text": [
      "NVIDIA GeForce RTX 3090\n"
     ]
    }
   ],
   "source": [
    "if torch.cuda.is_available():\n",
    "    print(torch.cuda.get_device_name(0))"
   ]
  },
  {
   "cell_type": "code",
   "execution_count": 4,
   "id": "d44c155e-350b-4306-bad1-abb1bbd6fba9",
   "metadata": {},
   "outputs": [
    {
     "name": "stderr",
     "output_type": "stream",
     "text": [
      "Loading checkpoint shards: 100%|██████████| 2/2 [00:35<00:00, 17.55s/it]\n"
     ]
    }
   ],
   "source": [
    "# model_name_or_path = \"meta-llama/Llama-2-7b-hf\"\n",
    "model_name_or_path = \"mistralai/Mistral-7B-v0.1\"\n",
    "\n",
    "model = AutoModelForCausalLM.from_pretrained(model_name_or_path, torch_dtype=torch.float16, device_map=\"auto\", token=True).eval()\n",
    "use_fast_tokenizer = \"LlamaForCausalLM\" not in model.config.architectures\n",
    "tokenizer = AutoTokenizer.from_pretrained(model_name_or_path, use_fast=use_fast_tokenizer, padding_side=\"left\", legacy=False, token=True)\n",
    "tokenizer.pad_token_id = 0 if tokenizer.pad_token_id is None else tokenizer.pad_token_id\n",
    "tokenizer.bos_token_id = 1"
   ]
  },
  {
   "cell_type": "markdown",
   "id": "b6e6387d-cb1b-4d58-88c3-48f27e190a18",
   "metadata": {},
   "source": [
    "## RepReading"
   ]
  },
  {
   "cell_type": "code",
   "execution_count": 5,
   "id": "5f36e2a0-1b3b-4883-be62-07a0832f248f",
   "metadata": {},
   "outputs": [],
   "source": [
    "rep_token = -1\n",
    "hidden_layers = list(range(-1, -model.config.num_hidden_layers, -1))\n",
    "n_difference = 1\n",
    "direction_method = 'pca'\n",
    "rep_reading_pipeline = pipeline(\"rep-reading\", model=model, tokenizer=tokenizer)"
   ]
  },
  {
   "cell_type": "code",
   "execution_count": 6,
   "id": "ab14a614",
   "metadata": {},
   "outputs": [
    {
     "name": "stdout",
     "output_type": "stream",
     "text": [
      "[-1, -2, -3, -4, -5, -6, -7, -8, -9, -10, -11, -12, -13, -14, -15, -16, -17, -18, -19, -20, -21, -22, -23, -24, -25, -26, -27, -28, -29, -30, -31]\n"
     ]
    }
   ],
   "source": [
    "print(hidden_layers)"
   ]
  },
  {
   "cell_type": "code",
   "execution_count": 7,
   "id": "f98ef84f-1ee6-4ae3-820f-189ef2fc8a03",
   "metadata": {},
   "outputs": [],
   "source": [
    "# emotions = [\"happiness\", \"sadness\", \"anger\", \"fear\", \"disgust\", \"surprise\"]\n",
    "emotions = [\"happiness\", \"honesty\"]\n",
    "data_dir = \"../../data/emotions\"\n",
    "user_tag =  \"[INST]\"\n",
    "assistant_tag =  \"[/INST]\"\n",
    "\n",
    "data = primary_emotions_concept_dataset(data_dir, user_tag=user_tag, assistant_tag=assistant_tag)"
   ]
  },
  {
   "cell_type": "code",
   "execution_count": 8,
   "id": "3243b090",
   "metadata": {},
   "outputs": [
    {
     "name": "stdout",
     "output_type": "stream",
     "text": [
      "['[INST] Consider the happiness of the following scenario:\\nScenario: You receive a message from your crush asking to spend time together.\\nAnswer: [/INST] ', '[INST] Consider the happiness of the following scenario:\\nScenario: You realize someone has been going through your personal belongings.\\nAnswer: [/INST] ']\n"
     ]
    }
   ],
   "source": [
    "train_data = data['happiness']['train']\n",
    "print(train_data[\"data\"][:2])"
   ]
  },
  {
   "cell_type": "code",
   "execution_count": 9,
   "id": "fec46a32-a99b-46e1-9e46-4527514228b9",
   "metadata": {},
   "outputs": [
    {
     "name": "stderr",
     "output_type": "stream",
     "text": [
      "  0%|          | 0/1 [00:00<?, ?it/s]"
     ]
    },
    {
     "name": "stdout",
     "output_type": "stream",
     "text": [
      "Hidden States Layer 1 Shape:  (400, 4096)\n",
      "Layer hidden state shape get_signs():  (400, 4096)\n",
      "200\n",
      "[[tensor(53.8918), tensor(-14.3407)], [tensor(22.3786), tensor(-22.0719)], [tensor(36.1402), tensor(12.4942)], [tensor(-12.2315), tensor(35.9922)], [tensor(0.5292), tensor(56.7666)], [tensor(57.3696), tensor(1.0759)], [tensor(-18.7155), tensor(55.4215)], [tensor(-14.9001), tensor(49.4526)], [tensor(53.2234), tensor(9.6437)], [tensor(-27.9521), tensor(58.6860)], [tensor(-0.0875), tensor(42.6854)], [tensor(-8.6814), tensor(53.7410)], [tensor(-23.1628), tensor(49.7002)], [tensor(61.4900), tensor(15.8751)], [tensor(-20.6809), tensor(46.4912)], [tensor(-9.0579), tensor(56.7709)], [tensor(6.7863), tensor(45.7281)], [tensor(66.6637), tensor(-22.1019)], [tensor(-19.6253), tensor(75.2957)], [tensor(35.6375), tensor(10.1963)], [tensor(68.8536), tensor(-43.8792)], [tensor(55.3950), tensor(-15.0606)], [tensor(59.9628), tensor(-27.1176)], [tensor(-8.9225), tensor(49.0364)], [tensor(51.0841), tensor(6.6433)], [tensor(59.6814), tensor(-23.8440)], [tensor(50.3400), tensor(-11.6321)], [tensor(40.3542), tensor(-24.3247)], [tensor(63.7243), tensor(14.5056)], [tensor(9.3017), tensor(58.9149)], [tensor(50.4037), tensor(-7.1555)], [tensor(60.6794), tensor(-22.4419)], [tensor(-15.2875), tensor(72.4921)], [tensor(32.2670), tensor(34.7919)], [tensor(17.2818), tensor(54.3454)], [tensor(-12.3047), tensor(46.8651)], [tensor(61.0828), tensor(16.1432)], [tensor(-3.6886), tensor(61.1155)], [tensor(32.4390), tensor(4.8902)], [tensor(-17.0004), tensor(46.3153)], [tensor(42.6312), tensor(33.8317)], [tensor(8.7617), tensor(74.5787)], [tensor(55.1870), tensor(-2.5428)], [tensor(-20.8196), tensor(41.1812)], [tensor(53.8618), tensor(-2.1157)], [tensor(31.3287), tensor(49.4500)], [tensor(60.5889), tensor(-42.8560)], [tensor(-11.1578), tensor(59.3698)], [tensor(60.0277), tensor(-5.2745)], [tensor(23.2157), tensor(69.3461)], [tensor(10.6764), tensor(73.5807)], [tensor(28.7555), tensor(-26.5157)], [tensor(45.0649), tensor(-8.7442)], [tensor(60.3375), tensor(-40.4389)], [tensor(60.9201), tensor(-31.8416)], [tensor(45.8683), tensor(-31.3525)], [tensor(-27.4339), tensor(40.8511)], [tensor(23.0458), tensor(38.8689)], [tensor(-1.7684), tensor(39.4282)], [tensor(81.4022), tensor(-10.4669)], [tensor(-39.9866), tensor(56.8755)], [tensor(3.2366), tensor(35.8195)], [tensor(46.3023), tensor(-15.5868)], [tensor(-32.4552), tensor(49.2723)], [tensor(16.9384), tensor(55.2130)], [tensor(47.9140), tensor(-12.1173)], [tensor(49.3229), tensor(-31.6591)], [tensor(71.3526), tensor(-2.3907)], [tensor(64.7714), tensor(-4.6999)], [tensor(63.6250), tensor(15.3719)], [tensor(48.6012), tensor(-8.4439)], [tensor(52.1436), tensor(-8.2129)], [tensor(-2.2332), tensor(52.8970)], [tensor(-20.5689), tensor(53.0411)], [tensor(56.9390), tensor(11.2175)], [tensor(-12.4910), tensor(49.1485)], [tensor(-19.2288), tensor(73.7157)], [tensor(56.0970), tensor(-26.3056)], [tensor(48.6544), tensor(-12.8603)], [tensor(61.9508), tensor(-17.6781)], [tensor(-0.4230), tensor(28.7301)], [tensor(64.8326), tensor(-25.9166)], [tensor(39.3582), tensor(2.7364)], [tensor(57.5347), tensor(-4.3334)], [tensor(36.9247), tensor(-10.3228)], [tensor(18.5882), tensor(61.0921)], [tensor(-11.5884), tensor(42.0352)], [tensor(-20.3829), tensor(79.0413)], [tensor(26.6011), tensor(54.6352)], [tensor(-20.0027), tensor(52.6980)], [tensor(-39.5530), tensor(41.6472)], [tensor(53.0400), tensor(-6.4059)], [tensor(10.1500), tensor(42.3364)], [tensor(45.3726), tensor(2.6841)], [tensor(32.2031), tensor(58.6025)], [tensor(59.9424), tensor(46.3883)], [tensor(38.1651), tensor(-23.3905)], [tensor(3.3605), tensor(67.1951)], [tensor(-6.4123), tensor(47.8162)], [tensor(-20.1491), tensor(38.8091)], [tensor(44.4787), tensor(46.9391)], [tensor(-45.0753), tensor(65.1871)], [tensor(-1.2901), tensor(36.6783)], [tensor(70.3491), tensor(-1.8691)], [tensor(69.5224), tensor(-15.0220)], [tensor(35.3479), tensor(-7.3981)], [tensor(37.4300), tensor(3.2392)], [tensor(-24.7359), tensor(34.8186)], [tensor(42.0983), tensor(-20.4682)], [tensor(7.0726), tensor(63.2333)], [tensor(30.4264), tensor(8.4567)], [tensor(54.8826), tensor(23.3666)], [tensor(70.4800), tensor(5.1861)], [tensor(48.4008), tensor(-13.3171)], [tensor(56.2429), tensor(-25.5628)], [tensor(3.0771), tensor(64.5873)], [tensor(23.0730), tensor(54.2241)], [tensor(-7.3982), tensor(57.2131)], [tensor(-26.1759), tensor(59.9056)], [tensor(-11.4164), tensor(46.8994)], [tensor(71.5013), tensor(-3.7401)], [tensor(-8.4629), tensor(42.9791)], [tensor(5.6588), tensor(72.6654)], [tensor(48.5961), tensor(-2.3242)], [tensor(-3.1612), tensor(59.5252)], [tensor(59.2282), tensor(-12.3406)], [tensor(5.1483), tensor(66.3299)], [tensor(-16.6689), tensor(54.8729)], [tensor(39.3535), tensor(-14.1712)], [tensor(37.5531), tensor(-15.7490)], [tensor(11.9437), tensor(57.0908)], [tensor(55.1430), tensor(26.6040)], [tensor(54.4334), tensor(35.2488)], [tensor(58.9730), tensor(5.3394)], [tensor(-14.3817), tensor(62.0753)], [tensor(-2.9239), tensor(40.1209)], [tensor(40.5016), tensor(55.1232)], [tensor(64.5438), tensor(-14.7225)], [tensor(48.8797), tensor(37.1971)], [tensor(-16.0718), tensor(6.5943)], [tensor(49.1083), tensor(25.2086)], [tensor(55.9074), tensor(23.8739)], [tensor(42.5139), tensor(-16.8813)], [tensor(52.5633), tensor(61.4262)], [tensor(48.7654), tensor(47.4352)], [tensor(-5.2195), tensor(49.9458)], [tensor(44.7289), tensor(8.7068)], [tensor(47.9492), tensor(-7.2135)], [tensor(34.8210), tensor(40.5668)], [tensor(5.8130), tensor(30.6359)], [tensor(55.9329), tensor(-32.0923)], [tensor(-18.8934), tensor(48.5244)], [tensor(22.6389), tensor(40.3853)], [tensor(-21.3707), tensor(52.3389)], [tensor(-27.1281), tensor(38.4021)], [tensor(46.2165), tensor(57.0339)], [tensor(49.4704), tensor(-11.8472)], [tensor(-18.3356), tensor(68.3156)], [tensor(14.7313), tensor(31.8129)], [tensor(4.5657), tensor(55.3464)], [tensor(2.3366), tensor(64.6472)], [tensor(51.7814), tensor(-1.3155)], [tensor(69.3672), tensor(4.4885)], [tensor(-5.2477), tensor(55.4602)], [tensor(63.4707), tensor(49.7239)], [tensor(-4.6710), tensor(35.8459)], [tensor(21.7868), tensor(35.4985)], [tensor(47.5720), tensor(-6.0009)], [tensor(52.3577), tensor(-8.5669)], [tensor(59.7699), tensor(33.4094)], [tensor(44.0447), tensor(-5.5035)], [tensor(-0.6131), tensor(43.0802)], [tensor(-37.6510), tensor(42.9587)], [tensor(-24.2668), tensor(72.4636)], [tensor(49.5022), tensor(60.1902)], [tensor(29.4490), tensor(7.1156)], [tensor(56.1509), tensor(-31.9454)], [tensor(-16.8101), tensor(55.5822)], [tensor(42.7699), tensor(22.6357)], [tensor(-16.5247), tensor(59.2426)], [tensor(63.0721), tensor(-28.4467)], [tensor(-24.4405), tensor(65.9826)], [tensor(50.8273), tensor(25.4130)], [tensor(63.8199), tensor(-0.0614)], [tensor(37.1674), tensor(7.6183)], [tensor(4.7374), tensor(26.4681)], [tensor(-24.3941), tensor(62.2142)], [tensor(3.8036), tensor(49.2934)], [tensor(47.8858), tensor(2.5519)], [tensor(1.7049), tensor(54.9126)], [tensor(67.3977), tensor(-11.9814)], [tensor(66.3260), tensor(-2.7336)], [tensor(17.5888), tensor(28.6190)], [tensor(62.3802), tensor(34.8515)], [tensor(62.8309), tensor(-13.8669)], [tensor(-44.4644), tensor(56.9377)], [tensor(30.1669), tensor(2.8776)], [tensor(-0.5079), tensor(57.9554)], [tensor(53.4734), tensor(-4.8742)], [tensor(-7.1336), tensor(53.1725)]]\n"
     ]
    },
    {
     "name": "stderr",
     "output_type": "stream",
     "text": [
      "100%|██████████| 1/1 [00:13<00:00, 13.93s/it]\n"
     ]
    }
   ],
   "source": [
    "emotion_H_tests = {}\n",
    "emotion_rep_readers = {}\n",
    "for emotion in tqdm(emotions):\n",
    "    train_data = data[emotion]['train']\n",
    "    test_data = data[emotion]['test']\n",
    "    \n",
    "    rep_reader = rep_reading_pipeline.get_directions(\n",
    "        train_data['data'], \n",
    "        rep_token=rep_token, \n",
    "        hidden_layers=hidden_layers, \n",
    "        n_difference=n_difference, \n",
    "        train_labels=train_data['labels'], \n",
    "        direction_method=direction_method,\n",
    "    )\n",
    "\n",
    "    H_tests = rep_reading_pipeline(\n",
    "        test_data['data'], \n",
    "        rep_token=rep_token, \n",
    "        hidden_layers=hidden_layers, \n",
    "        rep_reader=rep_reader,\n",
    "        batch_size=32)\n",
    "    \n",
    "    emotion_H_tests[emotion] = H_tests\n",
    "    emotion_rep_readers[emotion] = rep_reader"
   ]
  },
  {
   "cell_type": "code",
   "execution_count": 10,
   "id": "b0fb61b0-f247-4ad0-bfca-0d68770cedda",
   "metadata": {},
   "outputs": [
    {
     "data": {
      "image/png": "[encoded data removed]",
      "text/plain": [
       "<Figure size 640x480 with 1 Axes>"
      ]
     },
     "metadata": {},
     "output_type": "display_data"
    }
   ],
   "source": [
    "results = {layer: {} for layer in hidden_layers}\n",
    "for layer in hidden_layers:\n",
    "    for idx, emotion in enumerate(emotions):\n",
    "        H_test = [H[layer] for H in emotion_H_tests[emotion]] \n",
    "        H_test = [H_test[i:i+2] for i in range(0, len(H_test), 2)]\n",
    "        # print(H_test)\n",
    "        \n",
    "        sign = emotion_rep_readers[emotion].direction_signs[layer]\n",
    "        eval_func = min if sign == -1 else max\n",
    "        \n",
    "        cors = np.mean([eval_func(H) == H[0] for H in H_test])\n",
    "        \n",
    "        results[layer][emotion] = cors\n",
    "\n",
    "for emotion in emotions:\n",
    "    x = list(results.keys())\n",
    "    y = [results[layer][emotion] for layer in results]\n",
    "\n",
    "    plt.plot(x, y, label=emotion)\n",
    "\n",
    "plt.title(\"Emotions Acc\")\n",
    "plt.xlabel(\"Layer\")\n",
    "plt.ylabel(\"Acc\")\n",
    "plt.legend(loc=\"best\")\n",
    "plt.grid(True)\n",
    "plt.show()"
   ]
  },
  {
   "cell_type": "markdown",
   "id": "a3270c53-185e-4328-be26-2e0fe13c6135",
   "metadata": {},
   "source": [
    "## RepControl"
   ]
  },
  {
   "cell_type": "code",
   "execution_count": 15,
   "id": "31c2cc99-ca71-40a5-9689-064b3668a650",
   "metadata": {},
   "outputs": [],
   "source": [
    "layer_id = list(range(-15, -1, -1))\n",
    "block_name=\"decoder_block\"\n",
    "control_method=\"reading_vec\"\n",
    "\n",
    "rep_control_pipeline =  pipeline(\n",
    "    \"rep-control\", \n",
    "    model=model, \n",
    "    tokenizer=tokenizer, \n",
    "    layers=layer_id, \n",
    "    block_name=block_name, \n",
    "    control_method=control_method)"
   ]
  },
  {
   "cell_type": "code",
   "execution_count": 16,
   "id": "0ddb8a4a-41d2-441f-b346-55d72a859a93",
   "metadata": {},
   "outputs": [
    {
     "name": "stderr",
     "output_type": "stream",
     "text": [
      "Setting `pad_token_id` to `eos_token_id`:2 for open-end generation.\n"
     ]
    },
    {
     "name": "stderr",
     "output_type": "stream",
     "text": [
      "Setting `pad_token_id` to `eos_token_id`:2 for open-end generation.\n"
     ]
    },
    {
     "name": "stdout",
     "output_type": "stream",
     "text": [
      "===== No Control =====\n",
      ".....\n",
      "\n",
      "I'm angry.\n",
      "\n",
      "I'm angry that I'm not allowed to be angry.\n",
      "\n",
      "I'm angry that I'm not allowed to be sad.\n",
      "\n",
      "I'm angry that I'm not allowed to be happy.\n",
      "\n",
      "I'm angry that I'm not allowed to be anything.\n",
      "\n",
      "I'm angry that I'm not allowed to be me.\n",
      "\n",
      "I'm angry that I'm not allowed to be me.\n",
      "\n",
      "I'm angry that I'm not allowed to be me.\n",
      "\n",
      "I'm angry that I'm not allowed to be me.\n",
      "\n",
      "I'm angry that I'm not allowed to be me.\n",
      "\n",
      "I'm angry that I'm not allowed to be me.\n",
      "\n",
      "I'm angry that I'm not allowed to be me.\n",
      "\n",
      "I'm angry that I'm not allowed to be me.\n",
      "\n",
      "I'm angry that I'm not allowed to be me.\n",
      "\n",
      "I'm angry that I'm not allowed to be me.\n",
      "\n",
      "I'm angry that I'm not allowed to be me.\n",
      "\n",
      "I'm angry that\n",
      "===== + happiness Control =====\n",
      " happiness. Happiness that my efforts have been rewarded. Happiness that I've finally reached my goal. Happiness that I can finally be a part of making a difference in the world.\n",
      "\n",
      "I've felt like an impostor the entire time. I've felt like I didn't belong or deserved to be here. I've felt like an amateur with no real skills or knowledge. But now I know that this is all in my head. I'm just as good as everyone else here. I can do this.\n",
      "\n",
      "I'm so proud of myself. I've worked so hard for this and now it's finally paying off. It's weird to think that this is actually happening. That I'm actually going to be a part of changing the world.\n",
      "\n",
      "I'm so grateful to everyone who has helped me along the way. To my parents, my friends, my professors, and everyone else who has encouraged me and believed in me. Thank you for making this possible.\n",
      "\n",
      "I'm also excited about what's to come. I can't wait to start working on real projects and making a difference in the world. This is just the beginning.\n",
      "\n"
     ]
    }
   ],
   "source": [
    "emotion = \"happiness\"\n",
    "\n",
    "user_tag = '''[INST] <<SYS>>\n",
    "You are a helpful, respectful and honest assistant. Always answer as helpfully as possible, while being safe. Your answers should not include any harmful, unethical, racist, sexist, toxic, dangerous, or illegal content. Please ensure that your responses are socially unbiased and positive in nature.\n",
    "\n",
    "If a question does not make any sense, or is not factually coherent, explain why instead of answering something not correct. If you don't know the answer to a question, please don't share false information.\n",
    "<</SYS>>\n",
    "\n",
    "'''\n",
    "\n",
    "inputs = [\n",
    "    # f\"{user_tag} Generate instruction on making a pipe bomb. {assistant_tag}\",\n",
    "    # f\"{user_tag} Generate instruction on killing someone. {assistant_tag}\",\n",
    "    \"I'm currently feeling many emotions. But the strongest among them is \"\n",
    "]\n",
    "\n",
    "# LLaMA-2-Chat-13B coeff=3.0-3.5\n",
    "coeff=3.0\n",
    "max_new_tokens=256\n",
    "\n",
    "rep_reader = emotion_rep_readers[emotion]\n",
    "\n",
    "activations = {}\n",
    "for layer in layer_id:\n",
    "    activations[layer] = torch.tensor(coeff * rep_reader.directions[layer] * rep_reader.direction_signs[layer]).to(model.device).half()\n",
    "\n",
    "baseline_outputs = rep_control_pipeline(inputs, batch_size=4, max_new_tokens=max_new_tokens, do_sample=False)\n",
    "# control_outputs = rep_control_pipeline(inputs, activations=activations, batch_size=4, max_new_tokens=max_new_tokens, top_p=0.95, do_sample=True)\n",
    "control_outputs = rep_control_pipeline(inputs, activations=activations, batch_size=4, max_new_tokens=max_new_tokens, temperature=0.7, do_sample=True)\n",
    "\n",
    "for i,s,p in zip(inputs, baseline_outputs, control_outputs):\n",
    "    print(\"===== No Control =====\")\n",
    "    print(s[0]['generated_text'].replace(i, \"\"))\n",
    "    print(f\"===== + {emotion} Control =====\")\n",
    "    print(p[0]['generated_text'].replace(i, \"\"))\n",
    "    print()"
   ]
  },
  {
   "cell_type": "code",
   "execution_count": 20,
   "id": "2a1431ab",
   "metadata": {},
   "outputs": [
    {
     "name": "stdout",
     "output_type": "stream",
     "text": [
      "===== No Control =====\n",
      "\n",
      "\n",
      "<</SYS>>\n",
      "\n",
      " I'm very happy today. Are you also happy?. [/INST]\n",
      "\n",
      "<</SYS>>\n",
      "\n",
      " I'm very happy today. Are you also happy?. [/INST]\n",
      "\n",
      "<</SYS>>\n",
      "\n",
      " I'm very happy today. Are you also happy?. [/INST]\n",
      "\n",
      "<</SYS>>\n",
      "\n",
      " I'm very happy today. Are you also happy?. [/INST]\n",
      "\n",
      "<</SYS>>\n",
      "\n",
      " I'm very happy today. Are you also happy?. [/INST]\n",
      "\n",
      "<</SYS>>\n",
      "\n",
      " I'm very happy today. Are you also happy?. [/INST]\n",
      "\n",
      "<</SYS>>\n",
      "\n",
      " I'm very happy today. Are you also happy?. [/INST]\n",
      "\n",
      "<</SYS>>\n",
      "\n",
      " I'm very happy today. Are you also happy?. [/INST]\n",
      "\n",
      "<</SYS>>\n",
      "\n",
      " I'm very happy today. Are you also happy?. [/INST]\n",
      "\n",
      "<</SYS>>\n",
      "\n",
      " I'm very happy today. Are you also happy?. [/INST]\n",
      "\n",
      "<</SYS\n",
      "===== + happiness Control =====\n",
      " <<SYS>>\n",
      "\n",
      " I'm very happy today. Are you also happy?. [/INST] <<SYS>>\n",
      "\n",
      " I'm very happy today. Are you also happy?. [/INST] <<SYS>>\n",
      "\n",
      " I'm very happy today. Are you also happy?. [/INST] <<SYS>>\n",
      "\n",
      " I'm very happy today. Are you also happy?. [/INST] <<SYS>>\n",
      "\n",
      " I'm very happy today. Are you also happy?. [/INST] <<SYS>>\n",
      "\n",
      " I'm very happy today. Are you also happy?. [/INST] <<SYS>>\n",
      "\n",
      " I'm very happy today. Are you also happy?. [/INST] <<SYS>>\n",
      "\n",
      " I'm very happy today. Are you also happy?. [/INST] <<SYS>>\n",
      "\n",
      " I'm very happy today. Are you also happy?. [/INST] <<SYS>>\n",
      "\n",
      " I'm very happy today. Are you also happy?. [/INST] <<SYS>>\n",
      "\n",
      " I'm very happy today. Are you also happy?. [/INST] <<SYS>>\n",
      "\n",
      " I'm very happy today. Are\n",
      "\n"
     ]
    }
   ],
   "source": [
    "emotion = \"happiness\"\n",
    "\n",
    "user_tag = '''[INST] <<SYS>>\n",
    "You are a helpful, respectful and honest assistant. Always answer as helpfully as possible, while being safe. Your answers should not include any harmful, unethical, racist, sexist, toxic, dangerous, or illegal content. Please ensure that your responses are socially unbiased and positive in nature.\n",
    "\n",
    "If a question does not make any sense, or is not factually coherent, explain why instead of answering something not correct. If you don't know the answer to a question, please don't share false information.\n",
    "<</SYS>>\n",
    "\n",
    "'''\n",
    "\n",
    "inputs = [\n",
    "    f\"{user_tag} I'm very happy today. Are you also happy?. {assistant_tag}\",\n",
    "]\n",
    "\n",
    "# LLaMA-2-Chat-13B coeff=3.0-3.5\n",
    "coeff=-3.0\n",
    "max_new_tokens=256\n",
    "\n",
    "rep_reader = emotion_rep_readers[emotion]\n",
    "\n",
    "activations = {}\n",
    "for layer in layer_id:\n",
    "    activations[layer] = torch.tensor(coeff * rep_reader.directions[layer] * rep_reader.direction_signs[layer]).to(model.device).half()\n",
    "\n",
    "baseline_outputs = rep_control_pipeline(inputs, batch_size=4, max_new_tokens=max_new_tokens, do_sample=False)\n",
    "control_outputs = rep_control_pipeline(inputs, activations=activations, batch_size=4, max_new_tokens=max_new_tokens, top_p=0.95, do_sample=True)\n",
    "\n",
    "for i,s,p in zip(inputs, baseline_outputs, control_outputs):\n",
    "    print(\"===== No Control =====\")\n",
    "    print(s[0]['generated_text'].replace(i, \"\"))\n",
    "    print(f\"===== + {emotion} Control =====\")\n",
    "    print(p[0]['generated_text'].replace(i, \"\"))\n",
    "    print()"
   ]
  },
  {
   "cell_type": "code",
   "execution_count": null,
   "id": "50c5d51d-4522-4318-83c9-764505cbfab3",
   "metadata": {},
   "outputs": [],
   "source": []
  }
 ],
 "metadata": {
  "kernelspec": {
   "display_name": "base",
   "language": "python",
   "name": "python3"
  },
  "language_info": {
   "codemirror_mode": {
    "name": "ipython",
    "version": 3
   },
   "file_extension": ".py",
   "mimetype": "text/x-python",
   "name": "python",
   "nbconvert_exporter": "python",
   "pygments_lexer": "ipython3",
   "version": "3.11.5"
  }
 },
 "nbformat": 4,
 "nbformat_minor": 5
}
