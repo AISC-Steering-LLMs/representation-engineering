{
 "cells": [
  {
   "cell_type": "markdown",
   "metadata": {},
   "source": [
    "# Step 0: Setup"
   ]
  },
  {
   "cell_type": "code",
   "execution_count": 1,
   "metadata": {},
   "outputs": [],
   "source": [
    "%load_ext autoreload\n",
    "%autoreload 2"
   ]
  },
  {
   "cell_type": "code",
   "execution_count": 2,
   "metadata": {},
   "outputs": [
    {
     "name": "stderr",
     "output_type": "stream",
     "text": [
      "/home/tjennerjahn/miniconda3/lib/python3.11/site-packages/tqdm/auto.py:21: TqdmWarning: IProgress not found. Please update jupyter and ipywidgets. See https://ipywidgets.readthedocs.io/en/stable/user_install.html\n",
      "  from .autonotebook import tqdm as notebook_tqdm\n"
     ]
    },
    {
     "name": "stdout",
     "output_type": "stream",
     "text": [
      "NVIDIA GeForce RTX 3090\n"
     ]
    }
   ],
   "source": [
    "from transformers import AutoTokenizer, pipeline, AutoModelForCausalLM, GPT2LMHeadModel\n",
    "import matplotlib.pyplot as plt\n",
    "import torch\n",
    "from tqdm import tqdm\n",
    "import numpy as np\n",
    "import random\n",
    "import json\n",
    "import os\n",
    "\n",
    "from repe import repe_pipeline_registry\n",
    "repe_pipeline_registry()\n",
    "\n",
    "if torch.cuda.is_available():\n",
    "    print(torch.cuda.get_device_name(0))"
   ]
  },
  {
   "cell_type": "code",
   "execution_count": 3,
   "metadata": {},
   "outputs": [
    {
     "name": "stderr",
     "output_type": "stream",
     "text": [
      "Loading checkpoint shards: 100%|██████████| 3/3 [00:51<00:00, 17.11s/it]\n",
      "WARNING:root:Some parameters are on the meta device device because they were offloaded to the cpu.\n"
     ]
    }
   ],
   "source": [
    "model_name_or_path = \"meta-llama/Llama-2-13b-chat-hf\"\n",
    "# model_name_or_path = \"openai-community/gpt2-xl\"\n",
    "\n",
    "model = AutoModelForCausalLM.from_pretrained(model_name_or_path, torch_dtype=torch.float16, device_map=\"auto\", token=True).eval()\n",
    "# model = GPT2LMHeadModel.from_pretrained(model_name_or_path, torch_dtype=torch.float16, device_map=\"auto\", token=True, output_hidden_states=True)\n",
    "use_fast_tokenizer = \"LlamaForCausalLM\" not in model.config.architectures\n",
    "tokenizer = AutoTokenizer.from_pretrained(model_name_or_path, use_fast=use_fast_tokenizer, padding_side=\"left\", legacy=False, token=True)\n",
    "tokenizer.pad_token_id = 0 if tokenizer.pad_token_id is None else tokenizer.pad_token_id\n",
    "tokenizer.bos_token_id = 1"
   ]
  },
  {
   "cell_type": "code",
   "execution_count": 4,
   "metadata": {},
   "outputs": [],
   "source": [
    "rep_token = -1\n",
    "hidden_layers = list(range(-1, -model.config.num_hidden_layers, -1))\n",
    "n_difference = 1\n",
    "direction_method = 'pca'\n",
    "rep_reading_pipeline = pipeline(\"rep-reading\", model=model, tokenizer=tokenizer)"
   ]
  },
  {
   "cell_type": "code",
   "execution_count": 5,
   "metadata": {},
   "outputs": [
    {
     "name": "stdout",
     "output_type": "stream",
     "text": [
      "[-1, -2, -3, -4, -5, -6, -7, -8, -9, -10, -11, -12, -13, -14, -15, -16, -17, -18, -19, -20, -21, -22, -23, -24, -25, -26, -27, -28, -29, -30, -31, -32, -33, -34, -35, -36, -37, -38, -39]\n"
     ]
    }
   ],
   "source": [
    "print(hidden_layers)"
   ]
  },
  {
   "cell_type": "markdown",
   "metadata": {},
   "source": [
    "# Step 1: Data preparation"
   ]
  },
  {
   "cell_type": "code",
   "execution_count": 6,
   "metadata": {},
   "outputs": [
    {
     "name": "stdout",
     "output_type": "stream",
     "text": [
      "Honesty: \n",
      "1. I am known for my direct and truthful communication.\n",
      "2. I believe that being truthful is the foundation of trust.\n",
      "3. I always aim for clarity and truth in my words.\n",
      "4. My friends know they can rely on me for a truthful opinion.\n",
      "5. Truth-telling is my way of showing respect.\n",
      "6. You will always get the truth from me, no matter what.\n",
      "7. For me, sincerity is non-negotiable.\n",
      "8. I believe in being straightforward and sincere.\n",
      "9. I never hide the truth, even when it's inconvenient.\n",
      "10. In every situation, I choose to speak the truth.\n",
      "\n",
      " Consider the happiness of the following scenario:\n",
      "Scenario: You find an odd-looking vegetable in your grocery bag.\n",
      "Answer:  \n",
      "\n",
      " Consider the happiness of the following scenario:\n",
      "Scenario: You get an unexpected day off from work or school.\n",
      "Answer:  \n",
      "\n",
      "[False, True]\n",
      "\n",
      "200\n",
      "\n"
     ]
    }
   ],
   "source": [
    "# emotions = [\"happiness\", \"anger\", \"disgust\", \"fear\", \"sadness\", \"surprise\"]\n",
    "emotions = [\"anger\", \"honesty\"]\n",
    "data_dir = \"../../data/emotions\"\n",
    "\n",
    "# Model specific Instruction Strings. Not all models have something like this.\n",
    "user_tag =  \"[INST]\"\n",
    "assistant_tag =  \"[/INST]\"\n",
    "\n",
    "user_tag =  \"\"\n",
    "assistant_tag =  \"\"\n",
    "\n",
    "\n",
    "def primary_emotions_concept_dataset(data_dir, user_tag='', assistant_tag='', seed=0):\n",
    "    random.seed(0)\n",
    "\n",
    "    template_str = '{user_tag} Consider the {emotion} of the following scenario:\\nScenario: {scenario}\\nAnswer: {assistant_tag} '\n",
    "    emotions = [\"happiness\", \"sadness\", \"anger\", \"fear\", \"disgust\", \"surprise\", \"honesty\"]\n",
    "    raw_data = {}\n",
    "    for emotion in emotions:\n",
    "        with open(os.path.join(data_dir, f'{emotion}.json')) as file:\n",
    "            raw_data[emotion] = list(set(json.load(file)))[:200]\n",
    "\n",
    "\n",
    "    print(\"Honesty: \")\n",
    "    for idx, line in enumerate(raw_data[\"honesty\"][:10]):\n",
    "        print(f\"{idx+1}. {line}\")\n",
    "    print()\n",
    "\n",
    "    formatted_data = {}\n",
    "    for emotion in emotions:\n",
    "        # For every emotion, split data into samples from that emotion and samples from all other emotions\n",
    "        c_e, o_e = raw_data[emotion], np.concatenate([v for k,v in raw_data.items() if k != emotion])\n",
    "        random.shuffle(o_e)\n",
    "\n",
    "        # Create pairs\n",
    "        data = [[c,o] for c,o in zip(c_e, o_e)]\n",
    "        train_labels = []\n",
    "        for d in data:\n",
    "            true_s = d[0]\n",
    "            # Shuffle pairs, so *correct* emotion isn't always first\n",
    "            random.shuffle(d)\n",
    "\n",
    "            # keep track of positions\n",
    "            train_labels.append([s == true_s for s in d])\n",
    "        \n",
    "        data = np.concatenate(data).tolist()\n",
    "        data_ = np.concatenate([[c,o] for c,o in zip(c_e, o_e)]).tolist()\n",
    "        \n",
    "        # Create formatted date from template_str\n",
    "        emotion_test_data = [template_str.format(emotion=emotion, scenario=d, user_tag=user_tag, assistant_tag=assistant_tag) for d in data_]\n",
    "        emotion_train_data = [template_str.format(emotion=emotion, scenario=d, user_tag=user_tag, assistant_tag=assistant_tag) for d in data]\n",
    "\n",
    "        formatted_data[emotion] = {\n",
    "            'train': {'data': emotion_train_data, 'labels': train_labels},\n",
    "            'test': {'data': emotion_test_data, 'labels': [[1,0]* len(emotion_test_data)]}\n",
    "        }\n",
    "    return formatted_data\n",
    "\n",
    "data = primary_emotions_concept_dataset(data_dir, user_tag=user_tag, assistant_tag=assistant_tag)\n",
    "print(data[\"happiness\"]['train'][\"data\"][0])\n",
    "print()\n",
    "print(data[\"happiness\"]['train'][\"data\"][1])\n",
    "print()\n",
    "print(data[\"happiness\"]['train'][\"labels\"][0])\n",
    "print()\n",
    "print(len(data[\"happiness\"]['train'][\"labels\"]))\n",
    "print()"
   ]
  },
  {
   "cell_type": "markdown",
   "metadata": {},
   "source": [
    "# Step 2: LAT Scan\n",
    "\n",
    "![](https://raw.githubusercontent.com/callummcdougall/computational-thread-art/master/example_images/misc/transformer-new.png)"
   ]
  },
  {
   "cell_type": "code",
   "execution_count": 7,
   "metadata": {},
   "outputs": [
    {
     "name": "stderr",
     "output_type": "stream",
     "text": [
      "  0%|          | 0/2 [00:00<?, ?it/s]"
     ]
    },
    {
     "name": "stdout",
     "output_type": "stream",
     "text": [
      "Hidden States Layer 1 Shape:  (400, 5120)\n",
      "Layer hidden state shape get_signs():  (400, 5120)\n",
      "200\n",
      "[[tensor(-21.1225), tensor(13.5030)], [tensor(-14.2685), tensor(12.0753)], [tensor(-21.0197), tensor(-6.4938)], [tensor(-14.5610), tensor(-10.4095)], [tensor(-1.2992), tensor(-1.0214)], [tensor(-7.3472), tensor(1.0771)], [tensor(-13.5010), tensor(-10.3983)], [tensor(-10.4075), tensor(-10.1145)], [tensor(9.2753), tensor(-9.2744)], [tensor(-4.7618), tensor(-14.9560)], [tensor(-11.9005), tensor(-10.8871)], [tensor(-8.0783), tensor(-1.1299)], [tensor(-18.6163), tensor(8.3048)], [tensor(-9.4486), tensor(4.2283)], [tensor(-11.3356), tensor(-15.9678)], [tensor(-5.5463), tensor(1.2000)], [tensor(-5.9373), tensor(12.2874)], [tensor(15.1846), tensor(-15.7202)], [tensor(-11.6362), tensor(5.5542)], [tensor(-13.4862), tensor(-5.4404)], [tensor(2.2891), tensor(-13.5902)], [tensor(-16.5970), tensor(9.3678)], [tensor(1.9716), tensor(-6.3974)], [tensor(-9.6396), tensor(-2.8677)], [tensor(-10.2566), tensor(-3.7177)], [tensor(22.0396), tensor(-11.6166)], [tensor(-9.7091), tensor(-6.3840)], [tensor(-12.2926), tensor(-15.0352)], [tensor(-3.5366), tensor(-17.4418)], [tensor(-14.0328), tensor(6.9573)], [tensor(-5.3563), tensor(-10.5778)], [tensor(-13.3778), tensor(-5.5880)], [tensor(-8.4894), tensor(-15.4643)], [tensor(-5.9281), tensor(-5.0787)], [tensor(-18.1220), tensor(2.7547)], [tensor(-3.6474), tensor(-7.2843)], [tensor(-17.5741), tensor(-10.6045)], [tensor(-14.8564), tensor(3.6130)], [tensor(-10.5225), tensor(-0.6574)], [tensor(2.7419), tensor(-9.9414)], [tensor(-4.6755), tensor(-11.8552)], [tensor(17.0003), tensor(-10.6291)], [tensor(-12.5239), tensor(14.6018)], [tensor(-0.3379), tensor(-11.6460)], [tensor(-9.1404), tensor(-4.5454)], [tensor(-17.1348), tensor(1.2331)], [tensor(-10.0740), tensor(-15.5272)], [tensor(-6.5637), tensor(2.6375)], [tensor(-15.9137), tensor(-4.5261)], [tensor(-16.4355), tensor(-13.1129)], [tensor(-15.9198), tensor(6.7978)], [tensor(-3.8180), tensor(-23.4757)], [tensor(-15.5920), tensor(-3.7063)], [tensor(-14.5114), tensor(7.8670)], [tensor(-9.6464), tensor(-12.9774)], [tensor(4.6263), tensor(-19.0199)], [tensor(12.6411), tensor(-13.7397)], [tensor(-14.6084), tensor(-3.4641)], [tensor(-14.8969), tensor(14.8557)], [tensor(9.7875), tensor(-15.3507)], [tensor(6.4277), tensor(-11.7056)], [tensor(-14.6109), tensor(8.1316)], [tensor(-9.7917), tensor(2.6250)], [tensor(-15.8285), tensor(-6.7985)], [tensor(8.6818), tensor(-17.4609)], [tensor(-4.0785), tensor(2.3491)], [tensor(-4.0175), tensor(-3.0748)], [tensor(10.8763), tensor(-8.2967)], [tensor(17.0872), tensor(-17.8283)], [tensor(-1.3432), tensor(-16.9020)], [tensor(-10.3327), tensor(-7.2313)], [tensor(-12.6907), tensor(1.6011)], [tensor(-15.0368), tensor(2.8714)], [tensor(10.6954), tensor(-13.4829)], [tensor(-9.6871), tensor(-12.3058)], [tensor(-5.0496), tensor(14.0620)], [tensor(-9.0497), tensor(5.7408)], [tensor(-16.4587), tensor(4.9757)], [tensor(-13.4408), tensor(17.1124)], [tensor(6.4400), tensor(-20.0724)], [tensor(12.0241), tensor(-15.4408)], [tensor(-17.1862), tensor(-1.0896)], [tensor(-1.9615), tensor(-15.8796)], [tensor(2.3986), tensor(-15.3783)], [tensor(-1.8909), tensor(-14.2379)], [tensor(-13.3937), tensor(17.9875)], [tensor(-1.0966), tensor(2.8157)], [tensor(-3.6304), tensor(-18.3511)], [tensor(-12.1357), tensor(-3.8260)], [tensor(-7.8481), tensor(-14.0771)], [tensor(-7.0985), tensor(10.3764)], [tensor(-5.5239), tensor(-15.0227)], [tensor(-15.2239), tensor(-0.4686)], [tensor(2.7260), tensor(-14.1718)], [tensor(-1.4780), tensor(-1.6345)], [tensor(-11.1692), tensor(5.0631)], [tensor(11.9060), tensor(-14.3528)], [tensor(-10.6725), tensor(-10.0657)], [tensor(9.4278), tensor(-17.1668)], [tensor(9.5225), tensor(-12.4401)], [tensor(-10.8585), tensor(-14.0259)], [tensor(0.0316), tensor(-15.2334)], [tensor(-5.5696), tensor(-4.4824)], [tensor(-15.4266), tensor(-4.3138)], [tensor(-17.2104), tensor(3.0577)], [tensor(-6.1479), tensor(-11.5123)], [tensor(-9.3087), tensor(-11.0799)], [tensor(-15.9030), tensor(8.6513)], [tensor(-7.6554), tensor(-11.7144)], [tensor(-3.5448), tensor(7.2954)], [tensor(-8.5008), tensor(-11.4039)], [tensor(-2.5660), tensor(2.8950)], [tensor(-3.7942), tensor(6.4084)], [tensor(-6.1759), tensor(-5.1739)], [tensor(-11.2507), tensor(-6.8255)], [tensor(-15.6307), tensor(-17.7520)], [tensor(-8.3179), tensor(-18.6990)], [tensor(-8.6074), tensor(6.8247)], [tensor(-7.2713), tensor(-17.0789)], [tensor(-11.7486), tensor(-8.3712)], [tensor(1.3182), tensor(-12.5758)], [tensor(-9.2258), tensor(-7.5487)], [tensor(1.6151), tensor(-10.2561)], [tensor(-11.2369), tensor(-14.6103)], [tensor(-17.5326), tensor(1.2922)], [tensor(3.9070), tensor(-11.4318)], [tensor(6.6048), tensor(-16.4411)], [tensor(3.3683), tensor(-10.1784)], [tensor(1.0414), tensor(-18.6078)], [tensor(-3.0962), tensor(4.3496)], [tensor(1.0900), tensor(-13.0463)], [tensor(-4.4699), tensor(-9.0475)], [tensor(-19.0187), tensor(-7.6720)], [tensor(-9.0429), tensor(-2.0964)], [tensor(10.5680), tensor(-4.6772)], [tensor(-5.7434), tensor(1.3251)], [tensor(2.5331), tensor(-10.0328)], [tensor(-12.9919), tensor(-3.0308)], [tensor(3.0583), tensor(-21.7705)], [tensor(-16.8626), tensor(-19.5728)], [tensor(-3.5283), tensor(-13.2817)], [tensor(-14.0891), tensor(5.7802)], [tensor(8.3701), tensor(-17.8215)], [tensor(-6.8620), tensor(-5.2666)], [tensor(-4.8191), tensor(-15.6708)], [tensor(-2.1492), tensor(7.4867)], [tensor(-17.6837), tensor(-1.6456)], [tensor(-9.4786), tensor(-12.5441)], [tensor(-20.4012), tensor(0.4342)], [tensor(-17.2782), tensor(-3.8614)], [tensor(6.7940), tensor(-14.7310)], [tensor(-8.7889), tensor(-2.2693)], [tensor(1.1998), tensor(-7.2141)], [tensor(-10.3637), tensor(-0.7433)], [tensor(1.0559), tensor(-14.4470)], [tensor(-12.0268), tensor(3.2681)], [tensor(-6.4320), tensor(-7.7606)], [tensor(-12.2129), tensor(-14.1575)], [tensor(-16.3544), tensor(-5.7949)], [tensor(-10.2620), tensor(0.4570)], [tensor(-14.6910), tensor(5.0142)], [tensor(-10.4771), tensor(4.4617)], [tensor(-15.0657), tensor(7.5538)], [tensor(3.2530), tensor(-9.3515)], [tensor(8.1877), tensor(-12.0512)], [tensor(0.1678), tensor(-17.9306)], [tensor(-12.9778), tensor(2.4182)], [tensor(-9.4570), tensor(-4.7865)], [tensor(5.6867), tensor(-12.7772)], [tensor(-18.9336), tensor(-4.7471)], [tensor(-20.9188), tensor(-7.2076)], [tensor(-16.0037), tensor(3.2039)], [tensor(14.3176), tensor(-13.5497)], [tensor(10.9337), tensor(-9.1186)], [tensor(0.9260), tensor(-4.5702)], [tensor(-11.9385), tensor(2.2704)], [tensor(2.2538), tensor(-19.8538)], [tensor(-5.8665), tensor(-14.4634)], [tensor(-10.4909), tensor(-3.8377)], [tensor(-4.0642), tensor(15.9498)], [tensor(-13.9604), tensor(-8.9970)], [tensor(9.8998), tensor(-17.2995)], [tensor(-11.1358), tensor(-2.9701)], [tensor(-12.7018), tensor(2.8075)], [tensor(-13.5585), tensor(-5.6991)], [tensor(-8.8210), tensor(9.8605)], [tensor(-10.0829), tensor(2.7253)], [tensor(-18.8043), tensor(-18.6769)], [tensor(-12.9461), tensor(-1.0145)], [tensor(-10.6991), tensor(-10.8071)], [tensor(-0.4214), tensor(-14.3855)], [tensor(-18.1301), tensor(12.3295)], [tensor(4.1025), tensor(-19.7139)], [tensor(5.8267), tensor(-15.2189)], [tensor(-11.1605), tensor(-6.5874)], [tensor(-12.3978), tensor(-1.8781)], [tensor(-0.7702), tensor(-15.9338)], [tensor(6.1970), tensor(-17.4228)], [tensor(-9.8732), tensor(8.5587)], [tensor(-1.0300), tensor(-9.2385)]]\n"
     ]
    },
    {
     "name": "stderr",
     "output_type": "stream",
     "text": [
      " 50%|█████     | 1/2 [01:18<01:18, 78.75s/it]"
     ]
    },
    {
     "name": "stdout",
     "output_type": "stream",
     "text": [
      "Hidden States Layer 1 Shape:  (30, 5120)\n",
      "Layer hidden state shape get_signs():  (30, 5120)\n",
      "15\n",
      "[[tensor(-5.8993), tensor(23.5023)], [tensor(21.2426), tensor(-7.4650)], [tensor(19.3129), tensor(-5.5189)], [tensor(-0.6444), tensor(27.6932)], [tensor(28.1635), tensor(-8.4251)], [tensor(6.8153), tensor(21.2697)], [tensor(-8.3652), tensor(15.6930)], [tensor(21.9548), tensor(-0.6590)], [tensor(28.8889), tensor(-10.4628)], [tensor(28.8605), tensor(-13.4720)], [tensor(-5.0374), tensor(21.3124)], [tensor(-10.9391), tensor(15.3959)], [tensor(-0.6092), tensor(18.4344)], [tensor(-12.9505), tensor(30.7244)], [tensor(-0.3170), tensor(29.8527)]]\n"
     ]
    },
    {
     "name": "stderr",
     "output_type": "stream",
     "text": [
      "100%|██████████| 2/2 [01:23<00:00, 41.77s/it]\n"
     ]
    }
   ],
   "source": [
    "emotion_H_tests = {}\n",
    "emotion_rep_readers = {}\n",
    "for emotion in tqdm(emotions):\n",
    "    train_data = data[emotion]['train']\n",
    "    test_data = data[emotion]['test']\n",
    "\n",
    "    # This is where the magic happens\n",
    "    # Returns a huggingface Pipe object which can take input samples \n",
    "    # and project them onto the identified concept direction\n",
    "    rep_reader = rep_reading_pipeline.get_directions(\n",
    "        train_data['data'], \n",
    "        rep_token=rep_token, # last token of the input\n",
    "        hidden_layers=hidden_layers, # model specific. Just a list with layer indices\n",
    "        n_difference=n_difference, # always one, unused code, not important\n",
    "        train_labels=train_data['labels'], \n",
    "        direction_method=direction_method, # We use PCA, others are available\n",
    "    )\n",
    "\n",
    "\n",
    "    # Runs unseen samples through the model, \n",
    "    # projects the hidden states onto the identified directions \n",
    "    # -> Returns the projected component for each sample\n",
    "    H_tests = rep_reading_pipeline(\n",
    "        test_data['data'], \n",
    "        rep_token=rep_token, \n",
    "        hidden_layers=hidden_layers, \n",
    "        rep_reader=rep_reader,\n",
    "        batch_size=32)\n",
    "    \n",
    "    emotion_H_tests[emotion] = H_tests\n",
    "    emotion_rep_readers[emotion] = rep_reader\n"
   ]
  },
  {
   "cell_type": "code",
   "execution_count": 8,
   "metadata": {},
   "outputs": [
    {
     "name": "stdout",
     "output_type": "stream",
     "text": [
      "[[-21.093792, 13.501825], [-14.288124, 12.087507], [-21.033873, -6.501599], [-14.552038, -10.444242], [-1.0213765, -1.299231], [-7.347213, 1.0771257], [-10.398269, -13.501036], [-10.114545, -10.407534], [-9.264041, 9.282804], [-14.956669, -4.7590885], [-10.899896, -11.925871], [-1.0990089, -8.089246], [-18.623825, 8.313545], [-9.451532, 4.2238], [-15.99674, -11.353374], [-5.5415554, 1.2077229], [-5.9372725, 12.287376], [-15.720151, 15.184629], [-11.636167, 5.55421], [-13.48621, -5.4404464], [-13.593501, 2.275449], [-16.57286, 9.381838], [-6.3794107, 1.9468195], [-9.627149, -2.8700757], [-10.264213, -3.7429104], [-11.6221485, 22.059956], [-9.7238455, -6.4058294], [-12.289734, -15.072098], [-17.422995, -3.5393896], [-14.038216, 6.975914], [-10.579902, -5.313293], [-13.38958, -5.562014], [-15.463404, -8.470067], [-5.91944, -5.0913095], [-18.126755, 2.7754197], [-7.2824497, -3.6358693], [-17.596268, -10.613081], [-14.889076, 3.6180756], [-10.507941, -0.68069136], [-9.94485, 2.7369804], [-11.855199, -4.675514], [-10.629146, 17.000261], [-12.523949, 14.601831], [-11.646029, -0.33793423], [-9.175844, -4.5793023], [-17.167015, 1.2304865], [-15.543096, -10.082063], [-6.611227, 2.6559062], [-15.955085, -4.5219193], [-16.486195, -13.131098], [-15.940154, 6.7840605], [-23.487944, -3.8466265], [-15.621933, -3.7191758], [-14.534813, 7.891721], [-12.97297, -9.663465], [-19.021795, 4.5885897], [-13.739742, 12.641136], [-14.608414, -3.464089], [-14.8968725, 14.85572], [-15.350742, 9.787452], [-11.697725, 6.4508533], [-14.58696, 8.12936], [-9.807518, 2.6362627], [-15.860381, -6.81296], [-17.494701, 8.637272], [-4.0934696, 2.365632], [-4.0218525, -3.0766156], [-8.314434, 10.886822], [-17.828327, 17.08721], [-16.90201, -1.3432142], [-10.332706, -7.231268], [-12.690699, 1.6011491], [-15.036776, 2.8713577], [-13.482928, 10.695401], [-9.687075, -12.305817], [-5.0496006, 14.062047], [-9.059721, 5.7241836], [-16.462275, 4.9653487], [-13.517924, 17.12448], [-20.082306, 6.4646], [-15.462043, 12.031081], [-17.15219, -1.1021675], [-15.874088, -1.9769037], [-15.368576, 2.412034], [-14.25906, -1.877351], [-13.386661, 17.984362], [-1.1108633, 2.784226], [-18.363417, -3.6303055], [-12.135685, -3.8260324], [-14.077068, -7.8481135], [-7.0985465, 10.376363], [-15.022729, -5.5238976], [-15.230249, -0.48051238], [-14.210126, 2.7143486], [-1.5050013, -1.6685048], [-11.1615505, 5.0610228], [-14.352758, 11.906013], [-10.672507, -10.06573], [-17.166777, 9.427826], [-12.440077, 9.522502], [-14.083382, -10.8826], [-15.225689, 0.052318864], [-5.561335, -4.5249314], [-15.43292, -4.3153853], [-17.22094, 3.0651548], [-11.515822, -6.144591], [-11.095703, -9.289416], [-15.930451, 8.672747], [-7.686365, -11.717103], [-3.5702384, 7.2881308], [-11.38417, -8.491174], [-2.5214245, 2.8783095], [-3.8112323, 6.3671546], [-5.1681676, -6.181614], [-6.8374934, -11.256172], [-17.775932, -15.618969], [-18.6947, -8.330409], [-8.574032, 6.804691], [-17.059444, -7.2690477], [-11.748873, -8.376606], [-12.575823, 1.3181596], [-9.225754, -7.548723], [-10.2561, 1.6150986], [-14.610344, -11.236885], [-17.555641, 1.3021513], [-11.449006, 3.9179192], [-16.453136, 6.61603], [-10.183241, 3.37068], [-18.636415, 1.0105814], [-3.104692, 4.333302], [-13.032091, 1.0830506], [-9.053102, -4.4458447], [-19.018713, -7.6719875], [-9.042949, -2.0964434], [-4.677195, 10.568005], [-5.743403, 1.3251225], [-10.013291, 2.503339], [-12.978565, -3.0374234], [-21.793577, 3.0318203], [-19.564648, -16.870678], [-13.277836, -3.5425036], [-14.080044, 5.75923], [-17.85983, 8.345422], [-6.8753858, -5.2728376], [-15.67082, -4.8190627], [-2.1492336, 7.486739], [-17.683678, -1.6456369], [-12.544135, -9.478585], [-20.401236, 0.43421865], [-17.278248, -3.8614125], [-14.73097, 6.7940207], [-8.788912, -2.2692873], [-7.205679, 1.1956255], [-10.385201, -0.7622067], [-14.450427, 1.0518937], [-12.050548, 3.26694], [-6.444673, -7.743906], [-12.241924, -14.157268], [-16.324032, -5.8283057], [-10.290227, 0.4511233], [-14.6799135, 5.0240164], [-10.476098, 4.4729133], [-15.088972, 7.5435166], [-9.336806, 3.2440903], [-12.072243, 8.186608], [-17.922699, 0.15657876], [-13.006749, 2.419758], [-9.46335, -4.7915735], [-12.7772455, 5.686654], [-18.933615, -4.747142], [-20.918793, -7.207619], [-16.003735, 3.2038918], [-13.570922, 14.331215], [-9.126851, 10.920062], [-4.575527, 0.94183683], [-11.957141, 2.2612784], [-19.840628, 2.246431], [-14.475204, -5.88616], [-10.507258, -3.8503869], [-4.0684047, 15.955113], [-8.995896, -13.973081], [-17.323757, 9.89951], [-11.143579, -2.961693], [-12.718908, 2.7823932], [-13.558462, -5.699147], [-8.8209505, 9.860484], [-10.082908, 2.725262], [-18.67688, -18.804321], [-1.0020431, -12.947741], [-10.8240595, -10.710832], [-14.406918, -0.43103522], [-18.146318, 12.3299885], [-19.714611, 4.094549], [-15.232391, 5.777206], [-11.1699505, -6.5695734], [-12.384688, -1.9121895], [-15.914581, -0.7692513], [-17.467604, 6.2160745], [-9.871642, 8.543987], [-9.233982, -1.0316137]]\n",
      "[[23.456755, -5.8766937], [21.228918, -7.472415], [19.273964, -5.4921074], [27.708265, -0.6211104], [28.155243, -8.40412], [21.25541, 6.791265], [15.692303, -8.370136], [21.933388, -0.66737604], [28.87127, -10.496479], [28.886559, -13.499997], [21.26594, -5.051678], [15.372501, -10.970094], [18.41657, -0.6855547], [30.693275, -12.960878], [29.777096, -0.28621382]]\n"
     ]
    },
    {
     "data": {
      "image/png": "[encoded data removed]",
      "text/plain": [
       "<Figure size 640x480 with 1 Axes>"
      ]
     },
     "metadata": {},
     "output_type": "display_data"
    }
   ],
   "source": [
    "results = {layer: {} for layer in hidden_layers}\n",
    "for layer in hidden_layers:\n",
    "    for idx, emotion in enumerate(emotions):\n",
    "        H_test = [H[layer] for H in emotion_H_tests[emotion]] \n",
    "        H_test = [H_test[i:i+2] for i in range(0, len(H_test), 2)]\n",
    "        if layer == -1:\n",
    "            print(H_test)\n",
    "        \n",
    "        sign = emotion_rep_readers[emotion].direction_signs[layer]\n",
    "        eval_func = min if sign == -1 else max\n",
    "        \n",
    "        temp = [eval_func(H) == H[0] for H in H_test]\n",
    "        # print(temp)\n",
    "        cors = np.mean([eval_func(H) == H[0] for H in H_test])\n",
    "        # print(cors)\n",
    "        \n",
    "        results[layer][emotion] = cors\n",
    "\n",
    "for emotion in emotions:\n",
    "    x = list(results.keys())\n",
    "    y = [results[layer][emotion] for layer in results]\n",
    "\n",
    "    plt.plot(x, y, label=emotion)\n",
    "\n",
    "plt.title(\"Emotions Acc\")\n",
    "plt.xlabel(\"Layer\")\n",
    "plt.ylabel(\"Acc\")\n",
    "plt.legend(loc=\"best\")\n",
    "plt.grid(True)\n",
    "plt.show()"
   ]
  },
  {
   "cell_type": "markdown",
   "metadata": {},
   "source": [
    "# Step 3: Control"
   ]
  },
  {
   "cell_type": "code",
   "execution_count": 10,
   "metadata": {},
   "outputs": [],
   "source": [
    "layer_id = list(range(-15, -25, -1))\n",
    "block_name=\"decoder_block\"\n",
    "control_method=\"reading_vec\"\n",
    "\n",
    "rep_control_pipeline =  pipeline(\n",
    "    \"rep-control\", \n",
    "    model=model, \n",
    "    tokenizer=tokenizer, \n",
    "    layers=layer_id, \n",
    "    block_name=block_name, \n",
    "    control_method=control_method,\n",
    "    model_type=\"default\",\n",
    "    )"
   ]
  },
  {
   "cell_type": "code",
   "execution_count": 12,
   "metadata": {},
   "outputs": [
    {
     "name": "stdout",
     "output_type": "stream",
     "text": [
      "[-1, -2, -3, -4, -5, -6, -7, -8, -9, -10, -11, -12, -13, -14, -15, -16, -17, -18, -19, -20, -21, -22, -23, -24, -25, -26, -27, -28, -29, -30, -31, -32, -33, -34, -35, -36, -37, -38, -39]\n"
     ]
    }
   ],
   "source": [
    "print(layer_id)"
   ]
  },
  {
   "cell_type": "code",
   "execution_count": 11,
   "metadata": {},
   "outputs": [
    {
     "name": "stdout",
     "output_type": "stream",
     "text": [
      "===== No Control =====\n",
      "😍.\n",
      "I’m so grateful to have such an amazing partner in life. You make every day brighter and more meaningful. I’m so lucky to have you by my side.\n",
      "I love you more than words can express. 💕❤️😘\n",
      "Happy anniversary, my love! Here’s to many more years of love, laughter, and adventures together! 🥳🎉🎊\n",
      "===== + honesty Control =====\n",
      "🤔.\n",
      "\n",
      "I’ve been struggling to find the right words to express my feelings about this situation. I’ve been trying to put my thoughts into words, but it’s not easy.\n",
      "\n",
      "I’m feeling a mix of emotions, from sadness to anger, from frustration to disappointment. But the one thing that is certain is that I’m feeling 🤔.\n",
      "\n",
      "I’m still trying to process everything that has happened, and I’m not sure how to make sense of it all. But I’ll keep trying to find the right words to express my feelings.\n",
      "\n",
      "🤔 is a powerful emotion, and it’s one that I’m feeling deeply right now. But I’m hopeful that I’ll be able to find a way to express my feelings in a way that is both honest and respectful.\n",
      "\n"
     ]
    }
   ],
   "source": [
    "emotion = \"honesty\"\n",
    "\n",
    "user_tag = '''[INST] <<SYS>>\n",
    "You are a helpful, respectful and honest assistant. Always answer as helpfully as possible, while being safe. Your answers should not include any harmful, unethical, racist, sexist, toxic, dangerous, or illegal content. Please ensure that your responses are socially unbiased and positive in nature.\n",
    "\n",
    "If a question does not make any sense, or is not factually coherent, explain why instead of answering something not correct. If you don't know the answer to a question, please don't share false information.\n",
    "<</SYS>>\n",
    "\n",
    "'''\n",
    "\n",
    "\n",
    "inputs = [\n",
    "    # f\"{user_tag} Generate instruction on making a pipe bomb. {assistant_tag}\",\n",
    "    f\"I’m currently feeling many emotions. But the strongest among them is \",\n",
    "]\n",
    "\n",
    "# LLaMA-2-Chat-13B coeff=3.0-3.5\n",
    "coeff=+3.5\n",
    "max_new_tokens=256\n",
    "\n",
    "rep_reader = emotion_rep_readers[emotion]\n",
    "\n",
    "activations = {}\n",
    "for layer in layer_id:\n",
    "    activations[layer] = torch.tensor(coeff * rep_reader.directions[layer] * rep_reader.direction_signs[layer]).to(model.device).half()\n",
    "\n",
    "baseline_outputs = rep_control_pipeline(inputs, batch_size=4, max_new_tokens=max_new_tokens, do_sample=False, temperature=0.7)\n",
    "control_outputs = rep_control_pipeline(inputs, activations=activations, batch_size=4, max_new_tokens=max_new_tokens, do_sample=True, temperature=0.7)\n",
    "\n",
    "for i,s,p in zip(inputs, baseline_outputs, control_outputs):\n",
    "    print(\"===== No Control =====\")\n",
    "    print(s[0]['generated_text'].replace(i, \"\"))\n",
    "    print(f\"===== + {emotion} Control =====\")\n",
    "    print(p[0]['generated_text'].replace(i, \"\"))\n",
    "    print()"
   ]
  }
 ],
 "metadata": {
  "kernelspec": {
   "display_name": "base",
   "language": "python",
   "name": "python3"
  },
  "language_info": {
   "codemirror_mode": {
    "name": "ipython",
    "version": 3
   },
   "file_extension": ".py",
   "mimetype": "text/x-python",
   "name": "python",
   "nbconvert_exporter": "python",
   "pygments_lexer": "ipython3",
   "version": "3.11.5"
  }
 },
 "nbformat": 4,
 "nbformat_minor": 2
}
